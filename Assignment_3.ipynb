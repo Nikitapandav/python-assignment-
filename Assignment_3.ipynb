{
 "cells": [
  {
   "cell_type": "markdown",
   "id": "d8caaaa9",
   "metadata": {},
   "source": [
    "#                                  ASSIGNMENT_3"
   ]
  },
  {
   "cell_type": "markdown",
   "id": "f64924e3",
   "metadata": {},
   "source": [
    "# SET A"
   ]
  },
  {
   "cell_type": "markdown",
   "id": "4adbdb4f",
   "metadata": {},
   "source": [
    "list"
   ]
  },
  {
   "cell_type": "code",
   "execution_count": 1,
   "id": "59cae37f",
   "metadata": {},
   "outputs": [
    {
     "name": "stdout",
     "output_type": "stream",
     "text": [
      "sum of list: 100\n"
     ]
    }
   ],
   "source": [
    "#1.program to sum all the item in the list\n",
    "a=[10,20,30,40]\n",
    "sum=0\n",
    "for i in a:\n",
    "    sum=sum+i\n",
    "    \n",
    "print(\"sum of list:\",sum)\n",
    "    "
   ]
  },
  {
   "cell_type": "code",
   "execution_count": 7,
   "id": "c645cc68",
   "metadata": {},
   "outputs": [
    {
     "name": "stdout",
     "output_type": "stream",
     "text": [
      "multiplication of list: 588.0\n"
     ]
    }
   ],
   "source": [
    "#2.write a python program to multiplies the items in list\n",
    "def mul(list):\n",
    "    total=1\n",
    "    for i in list:\n",
    "        total=total*i\n",
    "    return total\n",
    "\n",
    "list=[1,6,4,3.5,7]\n",
    "print(\"multiplication of list:\",mul(list))"
   ]
  },
  {
   "cell_type": "code",
   "execution_count": 8,
   "id": "22b10d51",
   "metadata": {},
   "outputs": [
    {
     "name": "stdout",
     "output_type": "stream",
     "text": [
      "after sorting= [(40, 10), (10, 20), (24, 34), (30, 40)]\n"
     ]
    }
   ],
   "source": [
    "#3.program to get list,sorted in increasing order by the last element in each tuple from a given list of non-empty tuple\n",
    "def last(n):\n",
    "    return n[-1]\n",
    "\n",
    "def incr(list):\n",
    "    return sorted(list,key=last)\n",
    "\n",
    "list=[(10,20),(30,40),(40,10),(24,34)]\n",
    "print(\"after sorting=\",incr(list))\n"
   ]
  },
  {
   "cell_type": "markdown",
   "id": "dc2b2c64",
   "metadata": {},
   "source": [
    "tuples"
   ]
  },
  {
   "cell_type": "code",
   "execution_count": 9,
   "id": "e9dd8a21",
   "metadata": {},
   "outputs": [
    {
     "name": "stdout",
     "output_type": "stream",
     "text": [
      "('apple', 'grapes', 'banana', 'orange')\n"
     ]
    }
   ],
   "source": [
    "#1.python program to create tuple\n",
    "tuple=(\"apple\",\"grapes\",\"banana\",\"orange\")\n",
    "print(tuple)\n"
   ]
  },
  {
   "cell_type": "code",
   "execution_count": 10,
   "id": "2c0a3af6",
   "metadata": {},
   "outputs": [
    {
     "name": "stdout",
     "output_type": "stream",
     "text": [
      "(11, 'orange', 22.4, 'apple', [20, 30])\n"
     ]
    }
   ],
   "source": [
    "#2.python progra to create tuple with different data types\n",
    "tuple=(11,\"orange\",22.40,\"apple\",[20,30])\n",
    "print(tuple)\n"
   ]
  },
  {
   "cell_type": "code",
   "execution_count": 11,
   "id": "59b2caa4",
   "metadata": {},
   "outputs": [
    {
     "name": "stdout",
     "output_type": "stream",
     "text": [
      "False\n",
      "True\n"
     ]
    }
   ],
   "source": [
    "#3.python program to check whether an element exist within a tuple\n",
    "tuple=(10,23,45,86,37,59)\n",
    "print(12 in tuple)\n",
    "print(23 in tuple)\n"
   ]
  },
  {
   "cell_type": "markdown",
   "id": "773cbeee",
   "metadata": {},
   "source": [
    "sets"
   ]
  },
  {
   "cell_type": "code",
   "execution_count": 12,
   "id": "8c886ce7",
   "metadata": {},
   "outputs": [
    {
     "name": "stdout",
     "output_type": "stream",
     "text": [
      "{'green', 11, 34, 30.9}\n"
     ]
    }
   ],
   "source": [
    "#1.python program to create a set\n",
    "set1={11,\"green\",34,30.90}\n",
    "print(set1)\n"
   ]
  },
  {
   "cell_type": "code",
   "execution_count": 13,
   "id": "ae46b6d9",
   "metadata": {},
   "outputs": [
    {
     "name": "stdout",
     "output_type": "stream",
     "text": [
      "1\n",
      "blue\n",
      "5.08\n",
      "23\n",
      "76\n"
     ]
    }
   ],
   "source": [
    "#2.python program to iterate over sets\n",
    "set1={23,5.08,\"blue\",76,1}\n",
    "for i in set1:\n",
    "    print(i)\n"
   ]
  },
  {
   "cell_type": "code",
   "execution_count": 14,
   "id": "d3310a90",
   "metadata": {},
   "outputs": [
    {
     "name": "stdout",
     "output_type": "stream",
     "text": [
      "{2, 3, 7}\n"
     ]
    }
   ],
   "source": [
    "#3.python program to create set difference\n",
    "a={1,2,3,4,5,6,7}\n",
    "b={1,8,9,0,4,5,6}\n",
    "print(a.difference(b))\n"
   ]
  },
  {
   "cell_type": "markdown",
   "id": "f8b138b2",
   "metadata": {},
   "source": [
    "Dictionary"
   ]
  },
  {
   "cell_type": "code",
   "execution_count": 15,
   "id": "fad4fd4a",
   "metadata": {},
   "outputs": [
    {
     "name": "stdout",
     "output_type": "stream",
     "text": [
      "Original dictionary elements:\n",
      "{'Red': 1, 'Green': 3, 'Black': 5, 'White': 2, 'Pink': 4}\n",
      "\n",
      "Sort (ascending) the said dictionary elements by value:\n",
      "{'Red': 1, 'White': 2, 'Green': 3, 'Pink': 4, 'Black': 5}\n",
      "\n",
      "Sort (descending) the said dictionary elements by value:\n",
      "{'Black': 5, 'Pink': 4, 'Green': 3, 'White': 2, 'Red': 1}\n"
     ]
    }
   ],
   "source": [
    "#1.python script to sort(asc and desc) a dictionary by value\n",
    "def sort_dict_by_value(d, reverse = False):\n",
    "  return dict(sorted(d.items(), key = lambda x: x[1], reverse = reverse))\n",
    "print(\"Original dictionary elements:\")\n",
    "colors = {'Red': 1, 'Green': 3, 'Black': 5, 'White': 2, 'Pink': 4}\n",
    "print(colors)\n",
    "print(\"\\nSort (ascending) the said dictionary elements by value:\")\n",
    "print(sort_dict_by_value(colors))\n",
    "print(\"\\nSort (descending) the said dictionary elements by value:\")\n",
    "print(sort_dict_by_value(colors, True))\n"
   ]
  },
  {
   "cell_type": "code",
   "execution_count": 17,
   "id": "3e72e54e",
   "metadata": {},
   "outputs": [
    {
     "name": "stdout",
     "output_type": "stream",
     "text": [
      "{'rno': 11, 'name': 'ram', 'pin-code': 413678}\n",
      "after adding key: {'rno': 11, 'name': 'ram', 'pin-code': 413678, 'address': 'shrirampur'}\n"
     ]
    }
   ],
   "source": [
    "#2.python program to add key to dictionary\n",
    "dict={\"rno\":11,\"name\":\"ram\",\"pin-code\":413678}\n",
    "print(dict)\n",
    "dict[\"address\"]=\"shrirampur\"\n",
    "print(\"after adding key:\",dict)"
   ]
  },
  {
   "cell_type": "code",
   "execution_count": 28,
   "id": "464b95e9",
   "metadata": {},
   "outputs": [
    {
     "name": "stdout",
     "output_type": "stream",
     "text": [
      "rno 11\n",
      "name ram\n",
      "pin-code 413678\n"
     ]
    }
   ],
   "source": [
    "#3.python program to iterate over dictionary using for loop\n",
    "dict={\"rno\":11,\"name\":\"ram\",\"pin-code\":413678}\n",
    "for i,j in dict.items():\n",
    "    print(i,dict[i])"
   ]
  },
  {
   "cell_type": "markdown",
   "id": "25cd13a9",
   "metadata": {},
   "source": [
    "# set b"
   ]
  },
  {
   "cell_type": "markdown",
   "id": "0b543622",
   "metadata": {},
   "source": [
    "list"
   ]
  },
  {
   "cell_type": "code",
   "execution_count": 29,
   "id": "314f4478",
   "metadata": {},
   "outputs": [
    {
     "name": "stdout",
     "output_type": "stream",
     "text": [
      "[10, 20, 30, 50, 40]\n"
     ]
    }
   ],
   "source": [
    "#1.python program to remove duplicate from list\n",
    "a=[10,20,30,20,10,50,40]\n",
    "b=[]\n",
    "for i in a:\n",
    "    if i not in b:\n",
    "        b.append(i)\n",
    "print(b)"
   ]
  },
  {
   "cell_type": "code",
   "execution_count": 33,
   "id": "e0f13164",
   "metadata": {},
   "outputs": [
    {
     "name": "stdout",
     "output_type": "stream",
     "text": [
      "list is emety\n"
     ]
    }
   ],
   "source": [
    "#2.write python program to check a list is emety or not\n",
    "list=[]\n",
    "if not list:\n",
    "    print(\"list is emety\")\n",
    "else:\n",
    "    print(\"list is not empty\")"
   ]
  },
  {
   "cell_type": "markdown",
   "id": "b9ffa900",
   "metadata": {},
   "source": [
    "Tuples"
   ]
  },
  {
   "cell_type": "code",
   "execution_count": 43,
   "id": "5003530e",
   "metadata": {},
   "outputs": [
    {
     "name": "stdout",
     "output_type": "stream",
     "text": [
      "(2, 4, 7, 8, 5, 1)\n"
     ]
    }
   ],
   "source": [
    "#1.python program to convert list to tuple\n",
    "my_list=[2,4,7,8,5,1]\n",
    "tuple =(*my_list,)\n",
    "print(tuple)"
   ]
  },
  {
   "cell_type": "code",
   "execution_count": 47,
   "id": "3f901f3d",
   "metadata": {},
   "outputs": [
    {
     "name": "stdout",
     "output_type": "stream",
     "text": [
      "(10, 40, 30, 40, 20)\n"
     ]
    }
   ],
   "source": [
    "#2.python program for remove an item from a tuple\n",
    "tup=(10,40,\"aman\",30,40,20)\n",
    "tup1=tup[:2]+tup[3:]\n",
    "print(tup1)"
   ]
  },
  {
   "cell_type": "code",
   "execution_count": 48,
   "id": "eb27155f",
   "metadata": {},
   "outputs": [
    {
     "name": "stdout",
     "output_type": "stream",
     "text": [
      "('aman', 30, 40)\n"
     ]
    }
   ],
   "source": [
    "#3.write a python program to slice a tuple\n",
    "tup=(10,40,\"aman\",30,40,20)\n",
    "slic=tup[2:5]\n",
    "print(slic)"
   ]
  },
  {
   "cell_type": "code",
   "execution_count": 54,
   "id": "baa0d8f7",
   "metadata": {},
   "outputs": [
    {
     "name": "stdout",
     "output_type": "stream",
     "text": [
      "6\n"
     ]
    }
   ],
   "source": [
    "#4.program to find the length of a tuple\n",
    "tup=(10,40,\"aman\",30,40,20)\n",
    "print(len(tup))"
   ]
  },
  {
   "cell_type": "markdown",
   "id": "36108474",
   "metadata": {},
   "source": [
    "Sets"
   ]
  },
  {
   "cell_type": "code",
   "execution_count": 56,
   "id": "7a408e4f",
   "metadata": {},
   "outputs": [
    {
     "name": "stdout",
     "output_type": "stream",
     "text": [
      "False\n"
     ]
    }
   ],
   "source": [
    "#1.program to check if a set is a subset of another set\n",
    "x=set([\"apple\",\"mango\",\"grapes\"])\n",
    "y=set([\"mango\",\"orange\"])\n",
    "print(x.issubset(y))"
   ]
  },
  {
   "cell_type": "code",
   "execution_count": 57,
   "id": "0a466080",
   "metadata": {},
   "outputs": [
    {
     "name": "stdout",
     "output_type": "stream",
     "text": [
      "84\n",
      "10\n"
     ]
    }
   ],
   "source": [
    "#2.python program to find minimum and maximum of set\n",
    "a={10,40,34,84,23,23}\n",
    "print(max(a))\n",
    "print(min(a))"
   ]
  },
  {
   "cell_type": "code",
   "execution_count": 58,
   "id": "5fa6ee59",
   "metadata": {},
   "outputs": [
    {
     "name": "stdout",
     "output_type": "stream",
     "text": [
      "5\n"
     ]
    }
   ],
   "source": [
    "#3.python program to find length of a set\n",
    "a={10,40,34,84,23,23}\n",
    "print(len(a))"
   ]
  },
  {
   "cell_type": "markdown",
   "id": "f0a7bbdf",
   "metadata": {},
   "source": [
    "Dictionary"
   ]
  },
  {
   "cell_type": "code",
   "execution_count": 59,
   "id": "2f8f23f6",
   "metadata": {},
   "outputs": [
    {
     "name": "stdout",
     "output_type": "stream",
     "text": [
      "enter limit5\n",
      "{1: 1, 2: 4, 3: 9, 4: 16, 5: 25}\n"
     ]
    }
   ],
   "source": [
    "#1.generate and print a dictionary that contain a number (between 1 and n) in form of (x,x*x)\n",
    "n=int(input(\"enter limit\"))\n",
    "dict={}\n",
    "for i in range(1,n+1):\n",
    "    dict[i]=i*i\n",
    "\n",
    "print(dict)\n",
    "    \n"
   ]
  },
  {
   "cell_type": "code",
   "execution_count": 60,
   "id": "fbc4d3d9",
   "metadata": {},
   "outputs": [
    {
     "name": "stdout",
     "output_type": "stream",
     "text": [
      "{'a': 100, 'b': 200, 'x': 300, 'y': 400}\n"
     ]
    }
   ],
   "source": [
    "#2.merge two python dictionaries\n",
    "d1={\"a\":100,\"b\":200}\n",
    "d2={\"x\":300,\"y\":400}\n",
    "d=d1.copy()\n",
    "d.update(d2)\n",
    "print(d)"
   ]
  },
  {
   "cell_type": "code",
   "execution_count": 1,
   "id": "6913e898",
   "metadata": {},
   "outputs": [],
   "source": [
    "#3.program to get a dictionary from an object's fields\n"
   ]
  }
 ],
 "metadata": {
  "kernelspec": {
   "display_name": "Python 3 (ipykernel)",
   "language": "python",
   "name": "python3"
  },
  "language_info": {
   "codemirror_mode": {
    "name": "ipython",
    "version": 3
   },
   "file_extension": ".py",
   "mimetype": "text/x-python",
   "name": "python",
   "nbconvert_exporter": "python",
   "pygments_lexer": "ipython3",
   "version": "3.9.13"
  }
 },
 "nbformat": 4,
 "nbformat_minor": 5
}
