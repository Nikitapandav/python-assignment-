{
 "cells": [
  {
   "cell_type": "markdown",
   "id": "6b6b0888",
   "metadata": {},
   "source": [
    "# Assignment_2"
   ]
  },
  {
   "cell_type": "markdown",
   "id": "1e6c163b",
   "metadata": {},
   "source": [
    "SET A:"
   ]
  },
  {
   "cell_type": "markdown",
   "id": "eeb772b6",
   "metadata": {},
   "source": [
    "Strings:"
   ]
  },
  {
   "cell_type": "code",
   "execution_count": 1,
   "id": "740e277a",
   "metadata": {},
   "outputs": [
    {
     "name": "stdout",
     "output_type": "stream",
     "text": [
      "enter number:151\n",
      "String is not symmetric\n",
      "string is palindrome\n"
     ]
    }
   ],
   "source": [
    "#1.whether string is symmetric or palindrom\n",
    "s=input(\"enter number:\")\n",
    "#code for symmetric string\n",
    "n=len(s)\n",
    "flag=0\n",
    "if(n%2)==0:\n",
    "    i=0\n",
    "    j=n//2\n",
    "    while i<n//2 and j<n:\n",
    "        if s[i]==s[j]:\n",
    "            i=i+1\n",
    "            j=j+1\n",
    "        else:\n",
    "            flag=1\n",
    "            break\n",
    "\n",
    "else:\n",
    "    flag=1\n",
    "\n",
    "\n",
    "if(flag==0):\n",
    "    print(\"String is symmetric\")\n",
    "else:\n",
    "    print(\"String is not symmetric\")\n",
    "\n",
    "#code for palindrom string\n",
    "\n",
    "i=0\n",
    "j=n-1\n",
    "flag=0\n",
    "while(i<n):\n",
    "    if s[i]==s[j]:\n",
    "        i=i+1\n",
    "        j=j-1\n",
    "    else:\n",
    "        flag=1\n",
    "        break\n",
    "\n",
    "if(flag==0):\n",
    "    print(\"string is palindrome\")\n",
    "else:\n",
    "    print(\"string is not palindrom\")\n",
    "\n",
    "            \n",
    "        \n",
    "        \n"
   ]
  },
  {
   "cell_type": "code",
   "execution_count": 3,
   "id": "825d872e",
   "metadata": {},
   "outputs": [
    {
     "name": "stdout",
     "output_type": "stream",
     "text": [
      "enter a stringhii Good Morning\n",
      "Morning Good hii\n"
     ]
    }
   ],
   "source": [
    "#2.program to reverse words in given string\n",
    "string=input(\"enter a string\")\n",
    "\n",
    "words=string.split()\n",
    "\n",
    "words=list(reversed(words))\n",
    "\n",
    "print(\" \".join(words))\n",
    "\n"
   ]
  },
  {
   "cell_type": "code",
   "execution_count": 4,
   "id": "9d5f8432",
   "metadata": {},
   "outputs": [
    {
     "name": "stdout",
     "output_type": "stream",
     "text": [
      "enter string:welcome to shrirampur\n",
      "enter i'th position:2\n",
      "after removing i'th charatcter:: wecome to shrirampur\n"
     ]
    }
   ],
   "source": [
    "#3.program to remove i'th character from string in different ways\n",
    "s=input(\"enter string:\")\n",
    "i=int(input(\"enter i'th position:\"))\n",
    "s1=\"\"\n",
    "for j in range(0,len(s)):\n",
    "    if i!=j:\n",
    "        s1=s1+s[j]\n",
    "\n",
    "print(\"after removing i'th charatcter::\",s1)\n"
   ]
  },
  {
   "cell_type": "markdown",
   "id": "a6f5ea7e",
   "metadata": {},
   "source": [
    "Functions"
   ]
  },
  {
   "cell_type": "code",
   "execution_count": 5,
   "id": "8b050608",
   "metadata": {},
   "outputs": [
    {
     "name": "stdout",
     "output_type": "stream",
     "text": [
      "enter first number:26\n",
      "enter second number:48\n",
      "enter third number:10\n",
      "second number is maximum\n"
     ]
    }
   ],
   "source": [
    "#1.python function to find Max of three number\n",
    "def max(a,b,c):\n",
    "    if(a>b)&(a>c):\n",
    "        print(\"first number is maximum\")\n",
    "    elif(b>c)&(b>a):\n",
    "        print(\"second number is maximum\")\n",
    "    else:\n",
    "        print(\"third number is maximum\")\n",
    "\n",
    "a=int(input(\"enter first number:\"))\n",
    "b=int(input(\"enter second number:\"))\n",
    "c=int(input(\"enter third number:\"))\n",
    "\n",
    "max(a,b,c)\n"
   ]
  },
  {
   "cell_type": "code",
   "execution_count": 6,
   "id": "d6eb59d2",
   "metadata": {},
   "outputs": [
    {
     "name": "stdout",
     "output_type": "stream",
     "text": [
      "sum of numbers in list is: 210\n"
     ]
    }
   ],
   "source": [
    "#2.Function to sum of all the numbers in list\n",
    "def sum(list):\n",
    "    total=0\n",
    "    for i in list:\n",
    "        total=total+i\n",
    "    print(\"sum of numbers in list is:\",total)\n",
    "\n",
    "\n",
    "list=[10,20,30,40,50,60]\n",
    "sum(list)\n"
   ]
  },
  {
   "cell_type": "code",
   "execution_count": 7,
   "id": "cf3f252d",
   "metadata": {},
   "outputs": [
    {
     "name": "stdout",
     "output_type": "stream",
     "text": [
      "enter stringpython\n",
      "reversed string is:: nohtyp\n"
     ]
    }
   ],
   "source": [
    "#3.program to reverse a string\n",
    "def reverse_str(s):\n",
    "    s1=\"\"\n",
    "    for ch in s:\n",
    "        s1=ch+s1\n",
    "    print(\"reversed string is::\",s1)\n",
    "\n",
    "\n",
    "s=input(\"enter string\")\n",
    "\n",
    "reverse_str(s)\n",
    "    \n"
   ]
  },
  {
   "cell_type": "markdown",
   "id": "dceb893c",
   "metadata": {},
   "source": [
    "SET B"
   ]
  },
  {
   "cell_type": "markdown",
   "id": "52c0e3d7",
   "metadata": {},
   "source": [
    "Strings"
   ]
  },
  {
   "cell_type": "code",
   "execution_count": 16,
   "id": "3fe98dce",
   "metadata": {},
   "outputs": [
    {
     "name": "stdout",
     "output_type": "stream",
     "text": [
      "enter string:rbnb college\n",
      "rbnb "
     ]
    }
   ],
   "source": [
    "#1.program to print even length words in string\n",
    "s=input(\"enter string:\")\n",
    "\n",
    "words=s.split(\" \")\n",
    "\n",
    "for w in words:\n",
    "    if len(w)%2==0:\n",
    "        print(w,end=\" \")\n",
    "        "
   ]
  },
  {
   "cell_type": "code",
   "execution_count": 17,
   "id": "482e3e38",
   "metadata": {},
   "outputs": [
    {
     "name": "stdout",
     "output_type": "stream",
     "text": [
      "enter stringwelcome to shrirampure city\n",
      "string accepted\n"
     ]
    }
   ],
   "source": [
    "#2.program to accept the string which contain all vowels\n",
    "s=input(\"enter string\")\n",
    "\n",
    "if(('a' in s)and('e' in s)and('i' in s)and('o' in s)and('u' in s)or\n",
    "   ('A' in s)and('E' in s)and('I' in s)and('O' in s)and('U' in s)):\n",
    "    print(\"string accepted\")\n",
    "else:\n",
    "    print(\"string not accepted because it does not contain all vowels\")\n",
    "        \n"
   ]
  },
  {
   "cell_type": "code",
   "execution_count": 21,
   "id": "48e3283d",
   "metadata": {},
   "outputs": [
    {
     "name": "stdout",
     "output_type": "stream",
     "text": [
      "enter first string:rbnbcollege\n",
      "enter second string:cdjcollege\n",
      "number of matching elements: 7\n"
     ]
    }
   ],
   "source": [
    "#3.program to count the number of matching character in pair of strings\n",
    "a=input(\"enter first string:\")\n",
    "b=input(\"enter second string:\")\n",
    "c=[]\n",
    "for ch in a:\n",
    "    if ch in b:\n",
    "        c.append(ch)\n",
    "\n",
    "print(\"number of matching elements:\",len(c))\n",
    "        \n"
   ]
  },
  {
   "cell_type": "markdown",
   "id": "92813c15",
   "metadata": {},
   "source": [
    "Functions"
   ]
  },
  {
   "cell_type": "code",
   "execution_count": 22,
   "id": "f45e53b3",
   "metadata": {},
   "outputs": [
    {
     "name": "stdout",
     "output_type": "stream",
     "text": [
      "unique elements:: [10, 20, 30, 40, 50]\n"
     ]
    }
   ],
   "source": [
    "#1.python function that takes a list and return a new list with unique elements of first list\n",
    "def unique_list(numbers):\n",
    "    unique=[]\n",
    "    for item in numbers:\n",
    "        if item not in unique:\n",
    "            unique.append(item)\n",
    "    return unique\n",
    "\n",
    "\n",
    "\n",
    "print(\"unique elements::\",unique_list([10,20,30,40,50,50,40,30,20,10]))\n"
   ]
  },
  {
   "cell_type": "code",
   "execution_count": 23,
   "id": "3177db84",
   "metadata": {},
   "outputs": [
    {
     "name": "stdout",
     "output_type": "stream",
     "text": [
      "enter number::7\n",
      "number is prime\n"
     ]
    }
   ],
   "source": [
    "#2.python function that takes a number as a parameter check the number is prime or not\n",
    "def prime(n):\n",
    "    f=0\n",
    "    for i in range(2,n):\n",
    "        if (n%i)==0:\n",
    "            print(\"number is not prime\")\n",
    "            break\n",
    "    else:\n",
    "        print(\"number is prime\")\n",
    "    \n",
    "\n",
    "\n",
    "            \n",
    "n=int(input(\"enter number::\"))\n",
    "prime(n)\n",
    "\n",
    "\n",
    "    \n",
    "\n",
    "    \n",
    "        \n"
   ]
  },
  {
   "cell_type": "code",
   "execution_count": 24,
   "id": "5bf67fb3",
   "metadata": {},
   "outputs": [
    {
     "name": "stdout",
     "output_type": "stream",
     "text": [
      "enter number:28\n",
      "number is perfect\n"
     ]
    }
   ],
   "source": [
    "#3.python function to check whether a number is perfect or not\n",
    "def perfect(n):\n",
    "    sum=0\n",
    "    for i in range(1,n):\n",
    "        if(n%i)==0:\n",
    "            sum=sum+i\n",
    "    if(sum==n):\n",
    "        print(\"number is perfect\")\n",
    "    else:\n",
    "        print(\"number is not perfect\")\n",
    "\n",
    "\n",
    "n=int(input(\"enter number:\"))\n",
    "perfect(n)\n"
   ]
  }
 ],
 "metadata": {
  "kernelspec": {
   "display_name": "Python 3 (ipykernel)",
   "language": "python",
   "name": "python3"
  },
  "language_info": {
   "codemirror_mode": {
    "name": "ipython",
    "version": 3
   },
   "file_extension": ".py",
   "mimetype": "text/x-python",
   "name": "python",
   "nbconvert_exporter": "python",
   "pygments_lexer": "ipython3",
   "version": "3.9.13"
  }
 },
 "nbformat": 4,
 "nbformat_minor": 5
}
