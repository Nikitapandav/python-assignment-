{
 "cells": [
  {
   "cell_type": "markdown",
   "id": "add95e39",
   "metadata": {},
   "source": [
    "# Assignment 1"
   ]
  },
  {
   "cell_type": "markdown",
   "id": "d6bb5594",
   "metadata": {},
   "source": [
    "SET A:"
   ]
  },
  {
   "cell_type": "code",
   "execution_count": 1,
   "id": "597a2231",
   "metadata": {},
   "outputs": [
    {
     "name": "stdout",
     "output_type": "stream",
     "text": [
      "enter base of triangle:22\n",
      "enter height of triangle:12\n",
      "area of triangle:: 132.0\n"
     ]
    }
   ],
   "source": [
    "#1.python program to calculate the area of triangle\n",
    "b=float(input(\"enter base of triangle:\"))\n",
    "h=float(input(\"enter height of triangle:\"))\n",
    "a=(1/2)*(b*h)\n",
    "print(\"area of triangle::\",a)\n"
   ]
  },
  {
   "cell_type": "code",
   "execution_count": 4,
   "id": "d14cb74e",
   "metadata": {},
   "outputs": [
    {
     "name": "stdout",
     "output_type": "stream",
     "text": [
      "enter first number:10\n",
      "enter second number:20\n",
      "numbers before swap::\n",
      "first number:: 10\n",
      "second number:: 20\n",
      "no after swap\n",
      "first number:: 20\n",
      "second number:: 10\n"
     ]
    }
   ],
   "source": [
    "#2.python rogram to swap two variables\n",
    "a=int(input(\"enter first number:\"))\n",
    "b=int(input(\"enter second number:\"))\n",
    "print(\"numbers before swap::\")\n",
    "print(\"first number::\",a)\n",
    "print(\"second number::\",b)\n",
    "\n",
    "t=a\n",
    "a=b\n",
    "b=t\n",
    "\n",
    "print(\"no after swap\")\n",
    "print(\"first number::\",a)\n",
    "print(\"second number::\",b)\n"
   ]
  },
  {
   "cell_type": "code",
   "execution_count": 6,
   "id": "f827ad19",
   "metadata": {},
   "outputs": [
    {
     "name": "stdout",
     "output_type": "stream",
     "text": [
      "74\n"
     ]
    }
   ],
   "source": [
    "#3.python program generate a random number\n",
    "import random\n",
    "n=random.randint(1,100)\n",
    "print(n)\n"
   ]
  },
  {
   "cell_type": "markdown",
   "id": "a4f2898d",
   "metadata": {},
   "source": [
    "SET B"
   ]
  },
  {
   "cell_type": "code",
   "execution_count": 7,
   "id": "a3580f4c",
   "metadata": {},
   "outputs": [
    {
     "name": "stdout",
     "output_type": "stream",
     "text": [
      "enter number:-3\n",
      "no is negative\n"
     ]
    }
   ],
   "source": [
    "#1.program to check if a number is positive,negative or zero\n",
    "n=int(input(\"enter number:\"))\n",
    "\n",
    "if(n>0):\n",
    "    print(\"no is positive\")\n",
    "elif(n<0):\n",
    "    print(\"no is negative\")\n",
    "else:\n",
    "    print(\"no is zero\")\n"
   ]
  },
  {
   "cell_type": "code",
   "execution_count": 8,
   "id": "eb2fcd5c",
   "metadata": {},
   "outputs": [
    {
     "name": "stdout",
     "output_type": "stream",
     "text": [
      "enter number3\n",
      "number is odd\n"
     ]
    }
   ],
   "source": [
    "#2.program to check if a number is odd or even\n",
    "n=int(input(\"enter number\"))\n",
    "if(n%2==0):\n",
    "    print(\"number is even\")\n",
    "else:\n",
    "    print(\"number is odd\")\n"
   ]
  },
  {
   "cell_type": "code",
   "execution_count": 9,
   "id": "c739144a",
   "metadata": {},
   "outputs": [
    {
     "name": "stdout",
     "output_type": "stream",
     "text": [
      "enter number:7\n",
      "number is prime\n"
     ]
    }
   ],
   "source": [
    "#3.check no is prime or not\n",
    "n=int(input(\"enter number:\"))\n",
    "f=0\n",
    "for i in range(2,n):\n",
    "    if(n%i)==0:\n",
    "        f=1\n",
    "        break\n",
    "\n",
    "if f==1:\n",
    "    print(\"number is not prime\")\n",
    "else:\n",
    "    print(\"number is prime\")\n"
   ]
  },
  {
   "cell_type": "code",
   "execution_count": 10,
   "id": "8641a875",
   "metadata": {},
   "outputs": [
    {
     "name": "stdout",
     "output_type": "stream",
     "text": [
      "enter number153\n",
      "number is armstrong\n"
     ]
    }
   ],
   "source": [
    "#4.program to check number is arstrong or not\n",
    "n=int(input(\"enter number\"))\n",
    "n1=n\n",
    "s=0\n",
    "while n>0:\n",
    "    d=n%10\n",
    "    s=s+(d*d*d)\n",
    "    n=n//10\n",
    "\n",
    "if(s==n1):\n",
    "    print(\"number is armstrong\")\n",
    "else:\n",
    "    print(\"number is not armstrong\")\n",
    "\n",
    " \n"
   ]
  },
  {
   "cell_type": "code",
   "execution_count": 12,
   "id": "34b23458",
   "metadata": {},
   "outputs": [
    {
     "name": "stdout",
     "output_type": "stream",
     "text": [
      "enter number5\n",
      "factorial of number:: 120\n"
     ]
    }
   ],
   "source": [
    "#5.python program to find the factorial of number\n",
    "n=int(input(\"enter number\"))\n",
    "s=1\n",
    "for i in range(1,n+1):\n",
    "    s=s*i\n",
    "\n",
    "print(\"factorial of number::\",s) \n"
   ]
  }
 ],
 "metadata": {
  "kernelspec": {
   "display_name": "Python 3 (ipykernel)",
   "language": "python",
   "name": "python3"
  },
  "language_info": {
   "codemirror_mode": {
    "name": "ipython",
    "version": 3
   },
   "file_extension": ".py",
   "mimetype": "text/x-python",
   "name": "python",
   "nbconvert_exporter": "python",
   "pygments_lexer": "ipython3",
   "version": "3.9.13"
  }
 },
 "nbformat": 4,
 "nbformat_minor": 5
}
